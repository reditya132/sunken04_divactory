{
 "cells": [
  {
   "cell_type": "code",
   "execution_count": 1,
   "metadata": {
    "collapsed": true
   },
   "outputs": [],
   "source": [
    "import pandas as pd\n",
    "import numpy as np\n",
    "import matplotlib.pyplot as plt\n",
    "%matplotlib inline"
   ]
  },
  {
   "cell_type": "code",
   "execution_count": 2,
   "metadata": {
    "collapsed": false
   },
   "outputs": [
    {
     "data": {
      "text/html": [
       "<div>\n",
       "<table border=\"1\" class=\"dataframe\">\n",
       "  <thead>\n",
       "    <tr style=\"text-align: right;\">\n",
       "      <th></th>\n",
       "      <th>peubah1</th>\n",
       "      <th>peubah2</th>\n",
       "      <th>peubah3</th>\n",
       "      <th>peubah4</th>\n",
       "      <th>peubah5</th>\n",
       "      <th>peubah6</th>\n",
       "      <th>peubah7</th>\n",
       "      <th>peubah8</th>\n",
       "      <th>peubah9</th>\n",
       "      <th>peubah10</th>\n",
       "      <th>...</th>\n",
       "      <th>peubah13</th>\n",
       "      <th>peubah14</th>\n",
       "      <th>peubah15</th>\n",
       "      <th>peubah16</th>\n",
       "      <th>peubah17</th>\n",
       "      <th>peubah18</th>\n",
       "      <th>peubah19</th>\n",
       "      <th>peubah20</th>\n",
       "      <th>peubah21</th>\n",
       "      <th>target</th>\n",
       "    </tr>\n",
       "  </thead>\n",
       "  <tbody>\n",
       "    <tr>\n",
       "      <th>0</th>\n",
       "      <td>0.416471</td>\n",
       "      <td>0.433618</td>\n",
       "      <td>0.480263</td>\n",
       "      <td>0.391386</td>\n",
       "      <td>0.312282</td>\n",
       "      <td>0.350107</td>\n",
       "      <td>0.479583</td>\n",
       "      <td>0.366904</td>\n",
       "      <td>0.297115</td>\n",
       "      <td>0.407623</td>\n",
       "      <td>...</td>\n",
       "      <td>0.346316</td>\n",
       "      <td>0.519490</td>\n",
       "      <td>0.462123</td>\n",
       "      <td>0.351881</td>\n",
       "      <td>0.454687</td>\n",
       "      <td>0.480554</td>\n",
       "      <td>0.441771</td>\n",
       "      <td>0.381719</td>\n",
       "      <td>0.360698</td>\n",
       "      <td>1</td>\n",
       "    </tr>\n",
       "    <tr>\n",
       "      <th>1</th>\n",
       "      <td>0.393217</td>\n",
       "      <td>0.461127</td>\n",
       "      <td>0.453290</td>\n",
       "      <td>0.404972</td>\n",
       "      <td>0.376990</td>\n",
       "      <td>0.392576</td>\n",
       "      <td>0.406791</td>\n",
       "      <td>0.408893</td>\n",
       "      <td>0.255766</td>\n",
       "      <td>0.491208</td>\n",
       "      <td>...</td>\n",
       "      <td>0.358346</td>\n",
       "      <td>0.479205</td>\n",
       "      <td>0.447285</td>\n",
       "      <td>0.335229</td>\n",
       "      <td>0.445615</td>\n",
       "      <td>0.451973</td>\n",
       "      <td>0.421719</td>\n",
       "      <td>0.376270</td>\n",
       "      <td>0.305129</td>\n",
       "      <td>0</td>\n",
       "    </tr>\n",
       "    <tr>\n",
       "      <th>2</th>\n",
       "      <td>0.411785</td>\n",
       "      <td>0.463772</td>\n",
       "      <td>0.417967</td>\n",
       "      <td>0.454509</td>\n",
       "      <td>0.415468</td>\n",
       "      <td>0.418473</td>\n",
       "      <td>0.335786</td>\n",
       "      <td>0.397057</td>\n",
       "      <td>0.359163</td>\n",
       "      <td>0.497376</td>\n",
       "      <td>...</td>\n",
       "      <td>0.396283</td>\n",
       "      <td>0.412580</td>\n",
       "      <td>0.368068</td>\n",
       "      <td>0.388834</td>\n",
       "      <td>0.415171</td>\n",
       "      <td>0.412811</td>\n",
       "      <td>0.359205</td>\n",
       "      <td>0.373100</td>\n",
       "      <td>0.299415</td>\n",
       "      <td>0</td>\n",
       "    </tr>\n",
       "    <tr>\n",
       "      <th>3</th>\n",
       "      <td>0.416128</td>\n",
       "      <td>0.434078</td>\n",
       "      <td>0.483265</td>\n",
       "      <td>0.357681</td>\n",
       "      <td>0.308477</td>\n",
       "      <td>0.342319</td>\n",
       "      <td>0.500872</td>\n",
       "      <td>0.375741</td>\n",
       "      <td>0.270538</td>\n",
       "      <td>0.421817</td>\n",
       "      <td>...</td>\n",
       "      <td>0.339275</td>\n",
       "      <td>0.538065</td>\n",
       "      <td>0.476383</td>\n",
       "      <td>0.341957</td>\n",
       "      <td>0.457817</td>\n",
       "      <td>0.490621</td>\n",
       "      <td>0.454611</td>\n",
       "      <td>0.392002</td>\n",
       "      <td>0.369631</td>\n",
       "      <td>1</td>\n",
       "    </tr>\n",
       "    <tr>\n",
       "      <th>4</th>\n",
       "      <td>0.431211</td>\n",
       "      <td>0.460969</td>\n",
       "      <td>0.418770</td>\n",
       "      <td>0.449622</td>\n",
       "      <td>0.409211</td>\n",
       "      <td>0.449635</td>\n",
       "      <td>0.370591</td>\n",
       "      <td>0.372039</td>\n",
       "      <td>0.324457</td>\n",
       "      <td>0.457634</td>\n",
       "      <td>...</td>\n",
       "      <td>0.404351</td>\n",
       "      <td>0.423462</td>\n",
       "      <td>0.393851</td>\n",
       "      <td>0.387756</td>\n",
       "      <td>0.408308</td>\n",
       "      <td>0.411725</td>\n",
       "      <td>0.390778</td>\n",
       "      <td>0.366613</td>\n",
       "      <td>0.321540</td>\n",
       "      <td>1</td>\n",
       "    </tr>\n",
       "  </tbody>\n",
       "</table>\n",
       "<p>5 rows × 22 columns</p>\n",
       "</div>"
      ],
      "text/plain": [
       "    peubah1   peubah2   peubah3   peubah4   peubah5   peubah6   peubah7  \\\n",
       "0  0.416471  0.433618  0.480263  0.391386  0.312282  0.350107  0.479583   \n",
       "1  0.393217  0.461127  0.453290  0.404972  0.376990  0.392576  0.406791   \n",
       "2  0.411785  0.463772  0.417967  0.454509  0.415468  0.418473  0.335786   \n",
       "3  0.416128  0.434078  0.483265  0.357681  0.308477  0.342319  0.500872   \n",
       "4  0.431211  0.460969  0.418770  0.449622  0.409211  0.449635  0.370591   \n",
       "\n",
       "    peubah8   peubah9  peubah10   ...    peubah13  peubah14  peubah15  \\\n",
       "0  0.366904  0.297115  0.407623   ...    0.346316  0.519490  0.462123   \n",
       "1  0.408893  0.255766  0.491208   ...    0.358346  0.479205  0.447285   \n",
       "2  0.397057  0.359163  0.497376   ...    0.396283  0.412580  0.368068   \n",
       "3  0.375741  0.270538  0.421817   ...    0.339275  0.538065  0.476383   \n",
       "4  0.372039  0.324457  0.457634   ...    0.404351  0.423462  0.393851   \n",
       "\n",
       "   peubah16  peubah17  peubah18  peubah19  peubah20  peubah21  target  \n",
       "0  0.351881  0.454687  0.480554  0.441771  0.381719  0.360698       1  \n",
       "1  0.335229  0.445615  0.451973  0.421719  0.376270  0.305129       0  \n",
       "2  0.388834  0.415171  0.412811  0.359205  0.373100  0.299415       0  \n",
       "3  0.341957  0.457817  0.490621  0.454611  0.392002  0.369631       1  \n",
       "4  0.387756  0.408308  0.411725  0.390778  0.366613  0.321540       1  \n",
       "\n",
       "[5 rows x 22 columns]"
      ]
     },
     "execution_count": 2,
     "metadata": {},
     "output_type": "execute_result"
    }
   ],
   "source": [
    "train = pd.read_csv(\"train.csv\")\n",
    "train.head()"
   ]
  },
  {
   "cell_type": "code",
   "execution_count": 3,
   "metadata": {
    "collapsed": false
   },
   "outputs": [
    {
     "data": {
      "text/html": [
       "<div>\n",
       "<table border=\"1\" class=\"dataframe\">\n",
       "  <thead>\n",
       "    <tr style=\"text-align: right;\">\n",
       "      <th></th>\n",
       "      <th>peubah1</th>\n",
       "      <th>peubah2</th>\n",
       "      <th>peubah3</th>\n",
       "      <th>peubah4</th>\n",
       "      <th>peubah5</th>\n",
       "      <th>peubah6</th>\n",
       "      <th>peubah7</th>\n",
       "      <th>peubah8</th>\n",
       "      <th>peubah9</th>\n",
       "      <th>peubah10</th>\n",
       "      <th>...</th>\n",
       "      <th>peubah12</th>\n",
       "      <th>peubah13</th>\n",
       "      <th>peubah14</th>\n",
       "      <th>peubah15</th>\n",
       "      <th>peubah16</th>\n",
       "      <th>peubah17</th>\n",
       "      <th>peubah18</th>\n",
       "      <th>peubah19</th>\n",
       "      <th>peubah20</th>\n",
       "      <th>peubah21</th>\n",
       "    </tr>\n",
       "  </thead>\n",
       "  <tbody>\n",
       "    <tr>\n",
       "      <th>0</th>\n",
       "      <td>0.400607</td>\n",
       "      <td>0.443769</td>\n",
       "      <td>0.464715</td>\n",
       "      <td>0.375981</td>\n",
       "      <td>0.347645</td>\n",
       "      <td>0.351663</td>\n",
       "      <td>0.439126</td>\n",
       "      <td>0.407550</td>\n",
       "      <td>0.284675</td>\n",
       "      <td>0.468440</td>\n",
       "      <td>...</td>\n",
       "      <td>0.396014</td>\n",
       "      <td>0.347674</td>\n",
       "      <td>0.497309</td>\n",
       "      <td>0.432114</td>\n",
       "      <td>0.348655</td>\n",
       "      <td>0.451305</td>\n",
       "      <td>0.472033</td>\n",
       "      <td>0.405878</td>\n",
       "      <td>0.398407</td>\n",
       "      <td>0.343448</td>\n",
       "    </tr>\n",
       "    <tr>\n",
       "      <th>1</th>\n",
       "      <td>0.470947</td>\n",
       "      <td>0.441900</td>\n",
       "      <td>0.405045</td>\n",
       "      <td>0.428465</td>\n",
       "      <td>0.408474</td>\n",
       "      <td>0.422047</td>\n",
       "      <td>0.408461</td>\n",
       "      <td>0.336708</td>\n",
       "      <td>0.354572</td>\n",
       "      <td>0.422165</td>\n",
       "      <td>...</td>\n",
       "      <td>0.424954</td>\n",
       "      <td>0.424889</td>\n",
       "      <td>0.427246</td>\n",
       "      <td>0.390927</td>\n",
       "      <td>0.409563</td>\n",
       "      <td>0.387016</td>\n",
       "      <td>0.405265</td>\n",
       "      <td>0.413499</td>\n",
       "      <td>0.370956</td>\n",
       "      <td>0.363065</td>\n",
       "    </tr>\n",
       "    <tr>\n",
       "      <th>2</th>\n",
       "      <td>0.441025</td>\n",
       "      <td>0.323778</td>\n",
       "      <td>0.483907</td>\n",
       "      <td>0.308521</td>\n",
       "      <td>0.314570</td>\n",
       "      <td>0.207949</td>\n",
       "      <td>0.467782</td>\n",
       "      <td>0.373190</td>\n",
       "      <td>0.422067</td>\n",
       "      <td>0.372418</td>\n",
       "      <td>...</td>\n",
       "      <td>0.332952</td>\n",
       "      <td>0.344235</td>\n",
       "      <td>0.491037</td>\n",
       "      <td>0.382517</td>\n",
       "      <td>0.352015</td>\n",
       "      <td>0.459764</td>\n",
       "      <td>0.496396</td>\n",
       "      <td>0.429787</td>\n",
       "      <td>0.452151</td>\n",
       "      <td>0.460401</td>\n",
       "    </tr>\n",
       "    <tr>\n",
       "      <th>3</th>\n",
       "      <td>0.426437</td>\n",
       "      <td>0.551134</td>\n",
       "      <td>0.387668</td>\n",
       "      <td>0.490480</td>\n",
       "      <td>0.428146</td>\n",
       "      <td>0.439100</td>\n",
       "      <td>0.392839</td>\n",
       "      <td>0.372694</td>\n",
       "      <td>0.217657</td>\n",
       "      <td>0.538328</td>\n",
       "      <td>...</td>\n",
       "      <td>0.508479</td>\n",
       "      <td>0.417967</td>\n",
       "      <td>0.457096</td>\n",
       "      <td>0.471172</td>\n",
       "      <td>0.392866</td>\n",
       "      <td>0.384602</td>\n",
       "      <td>0.383376</td>\n",
       "      <td>0.418434</td>\n",
       "      <td>0.289186</td>\n",
       "      <td>0.192858</td>\n",
       "    </tr>\n",
       "    <tr>\n",
       "      <th>4</th>\n",
       "      <td>0.449629</td>\n",
       "      <td>0.343292</td>\n",
       "      <td>0.415963</td>\n",
       "      <td>0.387159</td>\n",
       "      <td>0.421161</td>\n",
       "      <td>0.380797</td>\n",
       "      <td>0.297999</td>\n",
       "      <td>0.399226</td>\n",
       "      <td>0.492932</td>\n",
       "      <td>0.408906</td>\n",
       "      <td>...</td>\n",
       "      <td>0.373279</td>\n",
       "      <td>0.408746</td>\n",
       "      <td>0.336479</td>\n",
       "      <td>0.199777</td>\n",
       "      <td>0.423220</td>\n",
       "      <td>0.409391</td>\n",
       "      <td>0.422925</td>\n",
       "      <td>0.274012</td>\n",
       "      <td>0.470941</td>\n",
       "      <td>0.453442</td>\n",
       "    </tr>\n",
       "  </tbody>\n",
       "</table>\n",
       "<p>5 rows × 21 columns</p>\n",
       "</div>"
      ],
      "text/plain": [
       "    peubah1   peubah2   peubah3   peubah4   peubah5   peubah6   peubah7  \\\n",
       "0  0.400607  0.443769  0.464715  0.375981  0.347645  0.351663  0.439126   \n",
       "1  0.470947  0.441900  0.405045  0.428465  0.408474  0.422047  0.408461   \n",
       "2  0.441025  0.323778  0.483907  0.308521  0.314570  0.207949  0.467782   \n",
       "3  0.426437  0.551134  0.387668  0.490480  0.428146  0.439100  0.392839   \n",
       "4  0.449629  0.343292  0.415963  0.387159  0.421161  0.380797  0.297999   \n",
       "\n",
       "    peubah8   peubah9  peubah10    ...     peubah12  peubah13  peubah14  \\\n",
       "0  0.407550  0.284675  0.468440    ...     0.396014  0.347674  0.497309   \n",
       "1  0.336708  0.354572  0.422165    ...     0.424954  0.424889  0.427246   \n",
       "2  0.373190  0.422067  0.372418    ...     0.332952  0.344235  0.491037   \n",
       "3  0.372694  0.217657  0.538328    ...     0.508479  0.417967  0.457096   \n",
       "4  0.399226  0.492932  0.408906    ...     0.373279  0.408746  0.336479   \n",
       "\n",
       "   peubah15  peubah16  peubah17  peubah18  peubah19  peubah20  peubah21  \n",
       "0  0.432114  0.348655  0.451305  0.472033  0.405878  0.398407  0.343448  \n",
       "1  0.390927  0.409563  0.387016  0.405265  0.413499  0.370956  0.363065  \n",
       "2  0.382517  0.352015  0.459764  0.496396  0.429787  0.452151  0.460401  \n",
       "3  0.471172  0.392866  0.384602  0.383376  0.418434  0.289186  0.192858  \n",
       "4  0.199777  0.423220  0.409391  0.422925  0.274012  0.470941  0.453442  \n",
       "\n",
       "[5 rows x 21 columns]"
      ]
     },
     "execution_count": 3,
     "metadata": {},
     "output_type": "execute_result"
    }
   ],
   "source": [
    "test = pd.read_csv(\"test.csv\")\n",
    "test.head()"
   ]
  },
  {
   "cell_type": "code",
   "execution_count": 4,
   "metadata": {
    "collapsed": false
   },
   "outputs": [
    {
     "data": {
      "text/plain": [
       "array([1, 0])"
      ]
     },
     "execution_count": 4,
     "metadata": {},
     "output_type": "execute_result"
    }
   ],
   "source": [
    "# Let's do some preliminary statistics and check the number of class\n",
    "nb_class = train['target'].unique()\n",
    "nb_class"
   ]
  },
  {
   "cell_type": "code",
   "execution_count": 5,
   "metadata": {
    "collapsed": false
   },
   "outputs": [
    {
     "name": "stdout",
     "output_type": "stream",
     "text": [
      "negative label: 10756 positive label: 10925\n"
     ]
    }
   ],
   "source": [
    "# There are two unique values. Let's filter them out to see number of positive and negative class\n",
    "pos_label = len(train[train['target'] == 1])\n",
    "neg_label = len(train[train['target'] == 0])\n",
    "print \"negative label:\", neg_label, \"positive label:\", pos_label"
   ]
  },
  {
   "cell_type": "code",
   "execution_count": 6,
   "metadata": {
    "collapsed": false
   },
   "outputs": [
    {
     "data": {
      "text/html": [
       "<div>\n",
       "<table border=\"1\" class=\"dataframe\">\n",
       "  <thead>\n",
       "    <tr style=\"text-align: right;\">\n",
       "      <th></th>\n",
       "      <th>mean</th>\n",
       "      <th>std</th>\n",
       "    </tr>\n",
       "  </thead>\n",
       "  <tbody>\n",
       "    <tr>\n",
       "      <th>peubah1</th>\n",
       "      <td>0.404051</td>\n",
       "      <td>0.060557</td>\n",
       "    </tr>\n",
       "    <tr>\n",
       "      <th>peubah2</th>\n",
       "      <td>0.428532</td>\n",
       "      <td>0.067654</td>\n",
       "    </tr>\n",
       "    <tr>\n",
       "      <th>peubah3</th>\n",
       "      <td>0.463884</td>\n",
       "      <td>0.062233</td>\n",
       "    </tr>\n",
       "    <tr>\n",
       "      <th>peubah4</th>\n",
       "      <td>0.378452</td>\n",
       "      <td>0.066273</td>\n",
       "    </tr>\n",
       "    <tr>\n",
       "      <th>peubah5</th>\n",
       "      <td>0.355536</td>\n",
       "      <td>0.061575</td>\n",
       "    </tr>\n",
       "    <tr>\n",
       "      <th>peubah6</th>\n",
       "      <td>0.403251</td>\n",
       "      <td>0.069431</td>\n",
       "    </tr>\n",
       "    <tr>\n",
       "      <th>peubah7</th>\n",
       "      <td>0.426134</td>\n",
       "      <td>0.064682</td>\n",
       "    </tr>\n",
       "    <tr>\n",
       "      <th>peubah8</th>\n",
       "      <td>0.393310</td>\n",
       "      <td>0.059387</td>\n",
       "    </tr>\n",
       "    <tr>\n",
       "      <th>peubah9</th>\n",
       "      <td>0.288719</td>\n",
       "      <td>0.072648</td>\n",
       "    </tr>\n",
       "    <tr>\n",
       "      <th>peubah10</th>\n",
       "      <td>0.446128</td>\n",
       "      <td>0.062610</td>\n",
       "    </tr>\n",
       "    <tr>\n",
       "      <th>peubah11</th>\n",
       "      <td>0.345317</td>\n",
       "      <td>0.068893</td>\n",
       "    </tr>\n",
       "    <tr>\n",
       "      <th>peubah12</th>\n",
       "      <td>0.386215</td>\n",
       "      <td>0.070666</td>\n",
       "    </tr>\n",
       "    <tr>\n",
       "      <th>peubah13</th>\n",
       "      <td>0.353111</td>\n",
       "      <td>0.065240</td>\n",
       "    </tr>\n",
       "    <tr>\n",
       "      <th>peubah14</th>\n",
       "      <td>0.482951</td>\n",
       "      <td>0.054844</td>\n",
       "    </tr>\n",
       "    <tr>\n",
       "      <th>peubah15</th>\n",
       "      <td>0.429656</td>\n",
       "      <td>0.061602</td>\n",
       "    </tr>\n",
       "    <tr>\n",
       "      <th>peubah16</th>\n",
       "      <td>0.340212</td>\n",
       "      <td>0.062544</td>\n",
       "    </tr>\n",
       "    <tr>\n",
       "      <th>peubah17</th>\n",
       "      <td>0.448527</td>\n",
       "      <td>0.059641</td>\n",
       "    </tr>\n",
       "    <tr>\n",
       "      <th>peubah18</th>\n",
       "      <td>0.464647</td>\n",
       "      <td>0.061505</td>\n",
       "    </tr>\n",
       "    <tr>\n",
       "      <th>peubah19</th>\n",
       "      <td>0.420817</td>\n",
       "      <td>0.059165</td>\n",
       "    </tr>\n",
       "    <tr>\n",
       "      <th>peubah20</th>\n",
       "      <td>0.399237</td>\n",
       "      <td>0.060312</td>\n",
       "    </tr>\n",
       "    <tr>\n",
       "      <th>peubah21</th>\n",
       "      <td>0.357395</td>\n",
       "      <td>0.072131</td>\n",
       "    </tr>\n",
       "    <tr>\n",
       "      <th>target</th>\n",
       "      <td>0.503897</td>\n",
       "      <td>0.499996</td>\n",
       "    </tr>\n",
       "  </tbody>\n",
       "</table>\n",
       "</div>"
      ],
      "text/plain": [
       "              mean       std\n",
       "peubah1   0.404051  0.060557\n",
       "peubah2   0.428532  0.067654\n",
       "peubah3   0.463884  0.062233\n",
       "peubah4   0.378452  0.066273\n",
       "peubah5   0.355536  0.061575\n",
       "peubah6   0.403251  0.069431\n",
       "peubah7   0.426134  0.064682\n",
       "peubah8   0.393310  0.059387\n",
       "peubah9   0.288719  0.072648\n",
       "peubah10  0.446128  0.062610\n",
       "peubah11  0.345317  0.068893\n",
       "peubah12  0.386215  0.070666\n",
       "peubah13  0.353111  0.065240\n",
       "peubah14  0.482951  0.054844\n",
       "peubah15  0.429656  0.061602\n",
       "peubah16  0.340212  0.062544\n",
       "peubah17  0.448527  0.059641\n",
       "peubah18  0.464647  0.061505\n",
       "peubah19  0.420817  0.059165\n",
       "peubah20  0.399237  0.060312\n",
       "peubah21  0.357395  0.072131\n",
       "target    0.503897  0.499996"
      ]
     },
     "execution_count": 6,
     "metadata": {},
     "output_type": "execute_result"
    }
   ],
   "source": [
    "# Okay, the class label from the training data is balanced. No need for imbalance tuning\n",
    "# Let's check whether we need to scale the variable by looking at mean and standard deviation of all variables\n",
    "train_mean = train.mean()\n",
    "train_std = train.std()\n",
    "train_max = train.std()\n",
    "train_std = train.std()\n",
    "\n",
    "train_stats = pd.DataFrame(train_mean, columns=['mean'])\n",
    "train_stats['std'] = train_std\n",
    "train_stats"
   ]
  },
  {
   "cell_type": "code",
   "execution_count": 7,
   "metadata": {
    "collapsed": false
   },
   "outputs": [],
   "source": [
    "# Well, it seems the data is scaled nicely. So we don't need to rescale it\n",
    "# Let's apply PCA"
   ]
  },
  {
   "cell_type": "code",
   "execution_count": 8,
   "metadata": {
    "collapsed": false
   },
   "outputs": [
    {
     "name": "stdout",
     "output_type": "stream",
     "text": [
      "0.954418474545\n"
     ]
    }
   ],
   "source": [
    "from sklearn.decomposition import PCA\n",
    "\n",
    "train_data = train.drop('target', 1).values\n",
    "train_label = train['target'].values\n",
    "\n",
    "test_data = test.values\n",
    "\n",
    "pca = PCA(n_components=3)\n",
    "pca_train = pca.fit(train_data).transform(train_data)\n",
    "pca_test = pca.transform(test_data)\n",
    "print sum(pca.explained_variance_ratio_)"
   ]
  },
  {
   "cell_type": "code",
   "execution_count": 9,
   "metadata": {
    "collapsed": false
   },
   "outputs": [
    {
     "data": {
      "image/png": "[encoded data removed]",
      "text/plain": [
       "<matplotlib.figure.Figure at 0x11b26e8d0>"
      ]
     },
     "metadata": {},
     "output_type": "display_data"
    }
   ],
   "source": [
    "plt.figure()\n",
    "lw = 2\n",
    "target_names = [0,1]\n",
    "\n",
    "for i, target_name in zip(target_names, target_names):\n",
    "    plt.scatter(pca_train[train_label == i, 0], pca_train[train_label == i, 1],\n",
    "                alpha=.5, lw=lw,\n",
    "                label=target_name)\n",
    "plt.legend(loc='best', shadow=False, scatterpoints=1)\n",
    "plt.title('PCA of training set')\n",
    "\n",
    "plt.show()"
   ]
  },
  {
   "cell_type": "code",
   "execution_count": 10,
   "metadata": {
    "collapsed": false
   },
   "outputs": [
    {
     "data": {
      "image/png": "[encoded data removed]",
      "text/plain": [
       "<matplotlib.figure.Figure at 0x117761f50>"
      ]
     },
     "metadata": {},
     "output_type": "display_data"
    }
   ],
   "source": [
    "plt.figure()\n",
    "lw = 2\n",
    "\n",
    "plt.scatter(pca_test[:,0], pca_test[:, 1],\n",
    "            color='navy', alpha=.8, lw=lw,\n",
    "            label='test')\n",
    "plt.scatter(pca_train[:,0], pca_train[:, 1],\n",
    "            color='green', alpha=.8, lw=lw,\n",
    "            label='train')\n",
    "\n",
    "plt.title('PCA of training and test data')\n",
    "plt.legend(loc='best', shadow=False, scatterpoints=1)\n",
    "\n",
    "plt.show()\n",
    "\n",
    "# it seems the distribution is a little bit different. maybe semi-supervised learning will help?"
   ]
  },
  {
   "cell_type": "code",
   "execution_count": 98,
   "metadata": {
    "collapsed": false
   },
   "outputs": [
    {
     "name": "stdout",
     "output_type": "stream",
     "text": [
      "Best parameters set found on development set: {'C': 1000.0}\n",
      "Best negative log_loss score:  -0.692130286746\n"
     ]
    }
   ],
   "source": [
    "# Gaussian dataset? Hmm.. \n",
    "# okay now just let's try logistic regression, out of curiousity\n",
    "from sklearn.model_selection import cross_val_score\n",
    "from xgboost import XGBClassifier\n",
    "from sklearn.discriminant_analysis import LinearDiscriminantAnalysis\n",
    "from sklearn.linear_model import LogisticRegression\n",
    "from sklearn.model_selection import train_test_split\n",
    "from sklearn.model_selection import GridSearchCV\n",
    "from sklearn.metrics import classification_report\n",
    "\n",
    "tuned_parameters = [{'C': np.logspace(-5,5,11)}]\n",
    "\n",
    "clf = GridSearchCV(LogisticRegression(), tuned_parameters, cv=10, scoring='neg_log_loss')\n",
    "clf.fit(train_data, train_label)\n",
    "print \"Best parameters set found on development set:\", clf.best_params_\n",
    "print \"Best negative log_loss score: \", clf.best_score_\n",
    "\n",
    "# Using logistic regression, the best C = 1000"
   ]
  },
  {
   "cell_type": "code",
   "execution_count": 11,
   "metadata": {
    "collapsed": false
   },
   "outputs": [
    {
     "name": "stdout",
     "output_type": "stream",
     "text": [
      "(0.9939958453178406, 0.0)\n"
     ]
    },
    {
     "name": "stderr",
     "output_type": "stream",
     "text": [
      "/Users/rezapermadi/anaconda/lib/python2.7/site-packages/scipy/stats/morestats.py:1330: UserWarning: p-value may not be accurate for N > 5000.\n",
      "  warnings.warn(\"p-value may not be accurate for N > 5000.\")\n"
     ]
    }
   ],
   "source": [
    "# let's do normality test using shapiro\n",
    "# ref : http://www.itl.nist.gov/div898/handbook/prc/section2/prc213.htm\n",
    "\n",
    "from scipy import stats\n",
    "print stats.shapiro(train_data)\n",
    "\n",
    "# it seems that the data is perfectly normal\n",
    "# can we do MLE to obtain on which parameter the samples is generated?"
   ]
  },
  {
   "cell_type": "code",
   "execution_count": 12,
   "metadata": {
    "collapsed": false
   },
   "outputs": [
    {
     "name": "stdout",
     "output_type": "stream",
     "text": [
      "mean of class 0: 0.400900425663 std of class 0: 0.0799876685342\n",
      "mean of class 1: 0.400633145743 std of class 1: 0.0800733908424\n",
      "mean of test set: 0.400723747445 std of class 1: 0.0800277652435\n"
     ]
    }
   ],
   "source": [
    "# now let's check the mean and standard deviation from both class\n",
    "print \"mean of class 0:\",np.mean(train_data[train_label == 0]),\"std of class 0:\",np.std(train_data[train_label == 0]) \n",
    "print \"mean of class 1:\",np.mean(train_data[train_label == 1]),\"std of class 1:\",np.std(train_data[train_label == 1]) \n",
    "print \"mean of test set:\",np.mean(test_data),\"std of class 1:\",np.std(test_data) "
   ]
  },
  {
   "cell_type": "code",
   "execution_count": 13,
   "metadata": {
    "collapsed": false
   },
   "outputs": [],
   "source": [
    "# wkwkwk, the mean and std is the same from both class >.<\n",
    "# so it seems that at first, the author of this problem generate multivariate data\n",
    "# and then just apply a random assignment of zero and 1 from the data..\n",
    "# and now the task is to find on which parameter do they make this problem?"
   ]
  },
  {
   "cell_type": "code",
   "execution_count": 16,
   "metadata": {
    "collapsed": false
   },
   "outputs": [
    {
     "name": "stdout",
     "output_type": "stream",
     "text": [
      "-0.717659712101\n"
     ]
    }
   ],
   "source": [
    "from sklearn.naive_bayes import GaussianNB\n",
    "gnb = GaussianNB()\n",
    "\n",
    "print np.mean(cross_val_score(gnb, train_data, train_label, cv=10, scoring='neg_log_loss'))"
   ]
  },
  {
   "cell_type": "code",
   "execution_count": 17,
   "metadata": {
    "collapsed": false
   },
   "outputs": [
    {
     "name": "stdout",
     "output_type": "stream",
     "text": [
      "21681\n"
     ]
    }
   ],
   "source": [
    "print len(train_data)"
   ]
  },
  {
   "cell_type": "code",
   "execution_count": 71,
   "metadata": {
    "collapsed": false
   },
   "outputs": [
    {
     "name": "stdout",
     "output_type": "stream",
     "text": [
      "Fitting 10 folds for each of 20 candidates, totalling 200 fits\n"
     ]
    },
    {
     "name": "stderr",
     "output_type": "stream",
     "text": [
      "[Parallel(n_jobs=1)]: Done 200 out of 200 | elapsed:    1.6s finished\n"
     ]
    },
    {
     "name": "stdout",
     "output_type": "stream",
     "text": [
      "Best parameters set found on development set: {'kernel': 'poly', 'C': 1000, 'degree': 2}\n",
      "Best negative log_loss score:  -0.646699447288\n",
      "Fitting 10 folds for each of 20 candidates, totalling 200 fits\n"
     ]
    },
    {
     "name": "stderr",
     "output_type": "stream",
     "text": [
      "[Parallel(n_jobs=1)]: Done 200 out of 200 | elapsed:    1.3s finished\n"
     ]
    },
    {
     "name": "stdout",
     "output_type": "stream",
     "text": [
      "Best parameters set found on development set: {'kernel': 'poly', 'C': 1000, 'degree': 1}\n",
      "Best negative log_loss score:  -0.615908195078\n",
      "Fitting 10 folds for each of 20 candidates, totalling 200 fits\n"
     ]
    },
    {
     "name": "stderr",
     "output_type": "stream",
     "text": [
      "[Parallel(n_jobs=1)]: Done 200 out of 200 | elapsed:    1.3s finished\n"
     ]
    },
    {
     "name": "stdout",
     "output_type": "stream",
     "text": [
      "Best parameters set found on development set: {'kernel': 'poly', 'C': 1000, 'degree': 2}\n",
      "Best negative log_loss score:  -0.66865063557\n",
      "Fitting 10 folds for each of 20 candidates, totalling 200 fits\n"
     ]
    },
    {
     "name": "stderr",
     "output_type": "stream",
     "text": [
      "[Parallel(n_jobs=1)]: Done 200 out of 200 | elapsed:    1.6s finished\n"
     ]
    },
    {
     "name": "stdout",
     "output_type": "stream",
     "text": [
      "Best parameters set found on development set: {'kernel': 'poly', 'C': 100, 'degree': 1}\n",
      "Best negative log_loss score:  -0.678903308603\n",
      "Fitting 10 folds for each of 20 candidates, totalling 200 fits\n"
     ]
    },
    {
     "name": "stderr",
     "output_type": "stream",
     "text": [
      "[Parallel(n_jobs=1)]: Done 200 out of 200 | elapsed:    1.4s finished\n"
     ]
    },
    {
     "name": "stdout",
     "output_type": "stream",
     "text": [
      "Best parameters set found on development set: {'kernel': 'poly', 'C': 1, 'degree': 2}\n",
      "Best negative log_loss score:  -0.67290086121\n",
      "Fitting 10 folds for each of 20 candidates, totalling 200 fits\n"
     ]
    },
    {
     "name": "stderr",
     "output_type": "stream",
     "text": [
      "[Parallel(n_jobs=1)]: Done 200 out of 200 | elapsed:    1.3s finished\n"
     ]
    },
    {
     "name": "stdout",
     "output_type": "stream",
     "text": [
      "Best parameters set found on development set: {'kernel': 'poly', 'C': 10, 'degree': 4}\n",
      "Best negative log_loss score:  -0.697701603577\n",
      "Fitting 10 folds for each of 20 candidates, totalling 200 fits\n"
     ]
    },
    {
     "name": "stderr",
     "output_type": "stream",
     "text": [
      "[Parallel(n_jobs=1)]: Done 200 out of 200 | elapsed:    1.3s finished\n"
     ]
    },
    {
     "name": "stdout",
     "output_type": "stream",
     "text": [
      "Best parameters set found on development set: {'kernel': 'poly', 'C': 10, 'degree': 3}\n",
      "Best negative log_loss score:  -0.700958089796\n",
      "Fitting 10 folds for each of 20 candidates, totalling 200 fits\n"
     ]
    },
    {
     "name": "stderr",
     "output_type": "stream",
     "text": [
      "[Parallel(n_jobs=1)]: Done 200 out of 200 | elapsed:    1.5s finished\n"
     ]
    },
    {
     "name": "stdout",
     "output_type": "stream",
     "text": [
      "Best parameters set found on development set: {'kernel': 'poly', 'C': 1000, 'degree': 5}\n",
      "Best negative log_loss score:  -0.694026357948\n",
      "Fitting 10 folds for each of 20 candidates, totalling 200 fits\n"
     ]
    },
    {
     "name": "stderr",
     "output_type": "stream",
     "text": [
      "[Parallel(n_jobs=1)]: Done 200 out of 200 | elapsed:    1.5s finished\n"
     ]
    },
    {
     "name": "stdout",
     "output_type": "stream",
     "text": [
      "Best parameters set found on development set: {'kernel': 'poly', 'C': 10, 'degree': 2}\n",
      "Best negative log_loss score:  -0.681162036748\n",
      "Fitting 10 folds for each of 20 candidates, totalling 200 fits\n",
      "Best parameters set found on development set: {'kernel': 'poly', 'C': 1000, 'degree': 1}\n",
      "Best negative log_loss score:  -0.676333001038\n"
     ]
    },
    {
     "name": "stderr",
     "output_type": "stream",
     "text": [
      "[Parallel(n_jobs=1)]: Done 200 out of 200 | elapsed:    1.6s finished\n"
     ]
    }
   ],
   "source": [
    "# let's try rbf svm with random undersampling\n",
    "# do cross validation\n",
    "\n",
    "from sklearn.model_selection import KFold, StratifiedKFold\n",
    "from imblearn.under_sampling import RandomUnderSampler\n",
    "from sklearn.metrics import log_loss\n",
    "from sklearn.gaussian_process import GaussianProcessClassifier\n",
    "from sklearn.gaussian_process.kernels import RBF\n",
    "from sklearn.utils import resample\n",
    "from sklearn.svm import SVC\n",
    "\n",
    "skf = StratifiedKFold(n_splits=10)\n",
    "all_loss = []\n",
    "\n",
    "for train_idx, test_idx in skf.split(train_data, train_label):\n",
    "    cv_data_train = train_data[train_idx]\n",
    "    cv_data_test = train_data[test_idx]\n",
    "    cv_label_train = train_label[train_idx]\n",
    "    cv_label_test = train_label[test_idx]\n",
    "    \n",
    "    # apply resampling to optimize SVM\n",
    "    X_res, y_res = resample(cv_data_train, cv_label_train, n_samples=100)\n",
    "    \n",
    "    # do a gridsearch to find best params\n",
    "    tuned_parameters = [{'kernel': ['poly'], 'C': [1,10,100,1000], \n",
    "                         'degree':[1,2,3,4,5]}]    \n",
    "    clf = GridSearchCV(SVC(probability=True), tuned_parameters, cv=10, scoring='neg_log_loss',\n",
    "                      verbose=1)\n",
    "    clf.fit(X_res, y_res)\n",
    "    print \"Best parameters set found on development set:\", clf.best_params_\n",
    "    print \"Best negative log_loss score: \", clf.best_score_\n",
    "\n",
    "# even only with 100 samples, the log loss is already good\n",
    "# but how can we guarantee the performance?"
   ]
  },
  {
   "cell_type": "code",
   "execution_count": 79,
   "metadata": {
    "collapsed": false
   },
   "outputs": [
    {
     "name": "stdout",
     "output_type": "stream",
     "text": [
      "-0.899851836146\n"
     ]
    }
   ],
   "source": [
    "from sklearn.ensemble import BaggingClassifier\n",
    "\n",
    "clf = BaggingClassifier()\n",
    "print np.mean(cross_val_score(clf, train_data, train_label, cv=10, scoring='neg_log_loss'))"
   ]
  },
  {
   "cell_type": "code",
   "execution_count": 110,
   "metadata": {
    "collapsed": false
   },
   "outputs": [
    {
     "name": "stdout",
     "output_type": "stream",
     "text": [
      "0.696700127156\n",
      "0.694909767038\n",
      "0.692186702941\n",
      "0.692649240742\n",
      "0.693304790006\n",
      "0.696714339537\n",
      "0.694611500445\n",
      "0.699281689534\n",
      "0.695992323664\n",
      "0.694266792894\n",
      "mean loss: 0.695061727396 std loss: 0.00205231513444\n"
     ]
    }
   ],
   "source": [
    "# let's try rbf svm with random undersampling\n",
    "# do cross validation\n",
    "\n",
    "from sklearn.model_selection import KFold, StratifiedKFold\n",
    "from imblearn.under_sampling import RandomUnderSampler\n",
    "from sklearn.metrics import log_loss\n",
    "from sklearn.gaussian_process import GaussianProcessClassifier\n",
    "from sklearn.gaussian_process.kernels import RBF\n",
    "from sklearn.utils import resample\n",
    "from sklearn.svm import SVC\n",
    "\n",
    "skf = StratifiedKFold(n_splits=10)\n",
    "all_loss = []\n",
    "\n",
    "for train_idx, test_idx in skf.split(train_data, train_label):\n",
    "    cv_data_train = train_data[train_idx]\n",
    "    cv_data_test = train_data[test_idx]\n",
    "    cv_label_train = train_label[train_idx]\n",
    "    cv_label_test = train_label[test_idx]\n",
    "    #print len(cv_data_train)\n",
    "    \n",
    "    # apply rus\n",
    "    X_res, y_res = resample(cv_data_train, cv_label_train, n_samples=5000)\n",
    "    #print len(X_res)\n",
    "    \n",
    "    # logistic regression with C=1000\n",
    "    #clf = LogisticRegression(C=1000)\n",
    "    #clf.fit(cv_data_train, cv_label_train)\n",
    "    #clf = SVC(kernel='rbf', probability=True, C=100, gamma=0.01)\n",
    "    #clf = SVC(kernel='poly', probability=True, C=1, degree=5)\n",
    "    #clf = GaussianProcessClassifier(kernel=1*RBF(length_scale=1.0), optimizer=None)\n",
    "    clf = XGBClassifier(learning_rate=0.01, max_depth=3, n_estimators=300)\n",
    "    clf.fit(X_res, y_res)\n",
    "    score = log_loss(cv_label_test, clf.predict_proba(cv_data_test))\n",
    "    all_loss.append(score)\n",
    "    print score\n",
    "    \n",
    "print \"mean loss:\", np.mean(all_loss), \"std loss:\", np.std(all_loss)"
   ]
  },
  {
   "cell_type": "code",
   "execution_count": 117,
   "metadata": {
    "collapsed": false
   },
   "outputs": [
    {
     "name": "stdout",
     "output_type": "stream",
     "text": [
      "[ 0.0456248   0.04925991  0.045016    0.05234897  0.04785205  0.05382378\n",
      "  0.04855281  0.04650673  0.05004419  0.04965436  0.04387307  0.04762667\n",
      "  0.04356202  0.04730952  0.0480928   0.04975328  0.04328961  0.04399243\n",
      "  0.04944953  0.04618738  0.0481801 ]\n"
     ]
    }
   ],
   "source": [
    "from sklearn.ensemble import RandomForestClassifier\n",
    "X_train, X_test, y_train, y_test = train_test_split(\n",
    "    train_data, train_label, test_size=0.1)\n",
    "\n",
    "clf = RandomForestClassifier(n_estimators=100)\n",
    "clf.fit(train_data, train_label)\n",
    "\n",
    "importance = clf.feature_importances_\n",
    "print importance"
   ]
  },
  {
   "cell_type": "code",
   "execution_count": 123,
   "metadata": {
    "collapsed": false
   },
   "outputs": [
    {
     "name": "stdout",
     "output_type": "stream",
     "text": [
      "Fitting 10 folds for each of 6 candidates, totalling 60 fits\n",
      "[CV] max_features=auto, n_estimators=200 .............................\n",
      "[CV] .............. max_features=auto, n_estimators=200, total=  14.5s\n",
      "[CV] max_features=auto, n_estimators=200 .............................\n"
     ]
    },
    {
     "name": "stderr",
     "output_type": "stream",
     "text": [
      "[Parallel(n_jobs=1)]: Done   1 out of   1 | elapsed:   15.3s remaining:    0.0s\n"
     ]
    },
    {
     "name": "stdout",
     "output_type": "stream",
     "text": [
      "[CV] .............. max_features=auto, n_estimators=200, total=  15.8s\n",
      "[CV] max_features=auto, n_estimators=200 .............................\n",
      "[CV] .............. max_features=auto, n_estimators=200, total=  14.4s\n",
      "[CV] max_features=auto, n_estimators=200 .............................\n",
      "[CV] .............. max_features=auto, n_estimators=200, total=  14.4s\n",
      "[CV] max_features=auto, n_estimators=200 .............................\n",
      "[CV] .............. max_features=auto, n_estimators=200, total=  14.7s\n",
      "[CV] max_features=auto, n_estimators=200 .............................\n",
      "[CV] .............. max_features=auto, n_estimators=200, total=  12.5s\n",
      "[CV] max_features=auto, n_estimators=200 .............................\n",
      "[CV] .............. max_features=auto, n_estimators=200, total=  15.2s\n",
      "[CV] max_features=auto, n_estimators=200 .............................\n",
      "[CV] .............. max_features=auto, n_estimators=200, total=  12.6s\n",
      "[CV] max_features=auto, n_estimators=200 .............................\n",
      "[CV] .............. max_features=auto, n_estimators=200, total=  14.1s\n",
      "[CV] max_features=auto, n_estimators=200 .............................\n",
      "[CV] .............. max_features=auto, n_estimators=200, total=  12.8s\n",
      "[CV] max_features=auto, n_estimators=700 .............................\n",
      "[CV] .............. max_features=auto, n_estimators=700, total=  40.7s\n",
      "[CV] max_features=auto, n_estimators=700 .............................\n",
      "[CV] .............. max_features=auto, n_estimators=700, total=  43.0s\n",
      "[CV] max_features=auto, n_estimators=700 .............................\n",
      "[CV] .............. max_features=auto, n_estimators=700, total=  46.7s\n",
      "[CV] max_features=auto, n_estimators=700 .............................\n",
      "[CV] .............. max_features=auto, n_estimators=700, total=  44.8s\n",
      "[CV] max_features=auto, n_estimators=700 .............................\n",
      "[CV] .............. max_features=auto, n_estimators=700, total=  43.8s\n",
      "[CV] max_features=auto, n_estimators=700 .............................\n",
      "[CV] .............. max_features=auto, n_estimators=700, total=  42.0s\n",
      "[CV] max_features=auto, n_estimators=700 .............................\n",
      "[CV] .............. max_features=auto, n_estimators=700, total=  41.0s\n",
      "[CV] max_features=auto, n_estimators=700 .............................\n",
      "[CV] .............. max_features=auto, n_estimators=700, total=  44.0s\n",
      "[CV] max_features=auto, n_estimators=700 .............................\n",
      "[CV] .............. max_features=auto, n_estimators=700, total=  46.6s\n",
      "[CV] max_features=auto, n_estimators=700 .............................\n",
      "[CV] .............. max_features=auto, n_estimators=700, total=  41.6s\n",
      "[CV] max_features=sqrt, n_estimators=200 .............................\n",
      "[CV] .............. max_features=sqrt, n_estimators=200, total=  11.7s\n",
      "[CV] max_features=sqrt, n_estimators=200 .............................\n",
      "[CV] .............. max_features=sqrt, n_estimators=200, total=  11.5s\n",
      "[CV] max_features=sqrt, n_estimators=200 .............................\n",
      "[CV] .............. max_features=sqrt, n_estimators=200, total=  11.8s\n",
      "[CV] max_features=sqrt, n_estimators=200 .............................\n",
      "[CV] .............. max_features=sqrt, n_estimators=200, total=  11.6s\n",
      "[CV] max_features=sqrt, n_estimators=200 .............................\n",
      "[CV] .............. max_features=sqrt, n_estimators=200, total=  12.3s\n",
      "[CV] max_features=sqrt, n_estimators=200 .............................\n",
      "[CV] .............. max_features=sqrt, n_estimators=200, total=  11.8s\n",
      "[CV] max_features=sqrt, n_estimators=200 .............................\n",
      "[CV] .............. max_features=sqrt, n_estimators=200, total=  11.7s\n",
      "[CV] max_features=sqrt, n_estimators=200 .............................\n",
      "[CV] .............. max_features=sqrt, n_estimators=200, total=  12.6s\n",
      "[CV] max_features=sqrt, n_estimators=200 .............................\n",
      "[CV] .............. max_features=sqrt, n_estimators=200, total=  11.3s\n",
      "[CV] max_features=sqrt, n_estimators=200 .............................\n",
      "[CV] .............. max_features=sqrt, n_estimators=200, total=  11.5s\n",
      "[CV] max_features=sqrt, n_estimators=700 .............................\n",
      "[CV] .............. max_features=sqrt, n_estimators=700, total=  47.3s\n",
      "[CV] max_features=sqrt, n_estimators=700 .............................\n",
      "[CV] .............. max_features=sqrt, n_estimators=700, total=  46.9s\n",
      "[CV] max_features=sqrt, n_estimators=700 .............................\n",
      "[CV] .............. max_features=sqrt, n_estimators=700, total=  40.9s\n",
      "[CV] max_features=sqrt, n_estimators=700 .............................\n"
     ]
    },
    {
     "ename": "KeyboardInterrupt",
     "evalue": "",
     "output_type": "error",
     "traceback": [
      "\u001b[0;31m---------------------------------------------------------------------------\u001b[0m",
      "\u001b[0;31mKeyboardInterrupt\u001b[0m                         Traceback (most recent call last)",
      "\u001b[0;32m<ipython-input-123-26045881dbe1>\u001b[0m in \u001b[0;36m<module>\u001b[0;34m()\u001b[0m\n\u001b[1;32m      9\u001b[0m \u001b[0;34m\u001b[0m\u001b[0m\n\u001b[1;32m     10\u001b[0m \u001b[0mCV_rfc\u001b[0m \u001b[0;34m=\u001b[0m \u001b[0mGridSearchCV\u001b[0m\u001b[0;34m(\u001b[0m\u001b[0mestimator\u001b[0m\u001b[0;34m=\u001b[0m\u001b[0mrfc\u001b[0m\u001b[0;34m,\u001b[0m \u001b[0mparam_grid\u001b[0m\u001b[0;34m=\u001b[0m\u001b[0mparam_grid\u001b[0m\u001b[0;34m,\u001b[0m \u001b[0mcv\u001b[0m\u001b[0;34m=\u001b[0m\u001b[0;36m10\u001b[0m\u001b[0;34m,\u001b[0m \u001b[0mverbose\u001b[0m\u001b[0;34m=\u001b[0m\u001b[0;36m2\u001b[0m\u001b[0;34m,\u001b[0m \u001b[0mscoring\u001b[0m\u001b[0;34m=\u001b[0m\u001b[0;34m'neg_log_loss'\u001b[0m\u001b[0;34m)\u001b[0m\u001b[0;34m\u001b[0m\u001b[0m\n\u001b[0;32m---> 11\u001b[0;31m \u001b[0mCV_rfc\u001b[0m\u001b[0;34m.\u001b[0m\u001b[0mfit\u001b[0m\u001b[0;34m(\u001b[0m\u001b[0mtrain_data\u001b[0m\u001b[0;34m,\u001b[0m \u001b[0mtrain_label\u001b[0m\u001b[0;34m)\u001b[0m\u001b[0;34m\u001b[0m\u001b[0m\n\u001b[0m\u001b[1;32m     12\u001b[0m \u001b[0;32mprint\u001b[0m \u001b[0mCV_rfc\u001b[0m\u001b[0;34m.\u001b[0m\u001b[0mbest_params_\u001b[0m\u001b[0;34m\u001b[0m\u001b[0m\n",
      "\u001b[0;32m/Users/rezapermadi/anaconda/lib/python2.7/site-packages/sklearn/model_selection/_search.pyc\u001b[0m in \u001b[0;36mfit\u001b[0;34m(self, X, y, groups)\u001b[0m\n\u001b[1;32m    943\u001b[0m             \u001b[0mtrain\u001b[0m\u001b[0;34m/\u001b[0m\u001b[0mtest\u001b[0m \u001b[0mset\u001b[0m\u001b[0;34m.\u001b[0m\u001b[0;34m\u001b[0m\u001b[0m\n\u001b[1;32m    944\u001b[0m         \"\"\"\n\u001b[0;32m--> 945\u001b[0;31m         \u001b[0;32mreturn\u001b[0m \u001b[0mself\u001b[0m\u001b[0;34m.\u001b[0m\u001b[0m_fit\u001b[0m\u001b[0;34m(\u001b[0m\u001b[0mX\u001b[0m\u001b[0;34m,\u001b[0m \u001b[0my\u001b[0m\u001b[0;34m,\u001b[0m \u001b[0mgroups\u001b[0m\u001b[0;34m,\u001b[0m \u001b[0mParameterGrid\u001b[0m\u001b[0;34m(\u001b[0m\u001b[0mself\u001b[0m\u001b[0;34m.\u001b[0m\u001b[0mparam_grid\u001b[0m\u001b[0;34m)\u001b[0m\u001b[0;34m)\u001b[0m\u001b[0;34m\u001b[0m\u001b[0m\n\u001b[0m\u001b[1;32m    946\u001b[0m \u001b[0;34m\u001b[0m\u001b[0m\n\u001b[1;32m    947\u001b[0m \u001b[0;34m\u001b[0m\u001b[0m\n",
      "\u001b[0;32m/Users/rezapermadi/anaconda/lib/python2.7/site-packages/sklearn/model_selection/_search.pyc\u001b[0m in \u001b[0;36m_fit\u001b[0;34m(self, X, y, groups, parameter_iterable)\u001b[0m\n\u001b[1;32m    562\u001b[0m                                   \u001b[0mreturn_times\u001b[0m\u001b[0;34m=\u001b[0m\u001b[0mTrue\u001b[0m\u001b[0;34m,\u001b[0m \u001b[0mreturn_parameters\u001b[0m\u001b[0;34m=\u001b[0m\u001b[0mTrue\u001b[0m\u001b[0;34m,\u001b[0m\u001b[0;34m\u001b[0m\u001b[0m\n\u001b[1;32m    563\u001b[0m                                   error_score=self.error_score)\n\u001b[0;32m--> 564\u001b[0;31m           \u001b[0;32mfor\u001b[0m \u001b[0mparameters\u001b[0m \u001b[0;32min\u001b[0m \u001b[0mparameter_iterable\u001b[0m\u001b[0;34m\u001b[0m\u001b[0m\n\u001b[0m\u001b[1;32m    565\u001b[0m           for train, test in cv_iter)\n\u001b[1;32m    566\u001b[0m \u001b[0;34m\u001b[0m\u001b[0m\n",
      "\u001b[0;32m/Users/rezapermadi/anaconda/lib/python2.7/site-packages/sklearn/externals/joblib/parallel.pyc\u001b[0m in \u001b[0;36m__call__\u001b[0;34m(self, iterable)\u001b[0m\n\u001b[1;32m    756\u001b[0m             \u001b[0;31m# was dispatched. In particular this covers the edge\u001b[0m\u001b[0;34m\u001b[0m\u001b[0;34m\u001b[0m\u001b[0m\n\u001b[1;32m    757\u001b[0m             \u001b[0;31m# case of Parallel used with an exhausted iterator.\u001b[0m\u001b[0;34m\u001b[0m\u001b[0;34m\u001b[0m\u001b[0m\n\u001b[0;32m--> 758\u001b[0;31m             \u001b[0;32mwhile\u001b[0m \u001b[0mself\u001b[0m\u001b[0;34m.\u001b[0m\u001b[0mdispatch_one_batch\u001b[0m\u001b[0;34m(\u001b[0m\u001b[0miterator\u001b[0m\u001b[0;34m)\u001b[0m\u001b[0;34m:\u001b[0m\u001b[0;34m\u001b[0m\u001b[0m\n\u001b[0m\u001b[1;32m    759\u001b[0m                 \u001b[0mself\u001b[0m\u001b[0;34m.\u001b[0m\u001b[0m_iterating\u001b[0m \u001b[0;34m=\u001b[0m \u001b[0mTrue\u001b[0m\u001b[0;34m\u001b[0m\u001b[0m\n\u001b[1;32m    760\u001b[0m             \u001b[0;32melse\u001b[0m\u001b[0;34m:\u001b[0m\u001b[0;34m\u001b[0m\u001b[0m\n",
      "\u001b[0;32m/Users/rezapermadi/anaconda/lib/python2.7/site-packages/sklearn/externals/joblib/parallel.pyc\u001b[0m in \u001b[0;36mdispatch_one_batch\u001b[0;34m(self, iterator)\u001b[0m\n\u001b[1;32m    606\u001b[0m                 \u001b[0;32mreturn\u001b[0m \u001b[0mFalse\u001b[0m\u001b[0;34m\u001b[0m\u001b[0m\n\u001b[1;32m    607\u001b[0m             \u001b[0;32melse\u001b[0m\u001b[0;34m:\u001b[0m\u001b[0;34m\u001b[0m\u001b[0m\n\u001b[0;32m--> 608\u001b[0;31m                 \u001b[0mself\u001b[0m\u001b[0;34m.\u001b[0m\u001b[0m_dispatch\u001b[0m\u001b[0;34m(\u001b[0m\u001b[0mtasks\u001b[0m\u001b[0;34m)\u001b[0m\u001b[0;34m\u001b[0m\u001b[0m\n\u001b[0m\u001b[1;32m    609\u001b[0m                 \u001b[0;32mreturn\u001b[0m \u001b[0mTrue\u001b[0m\u001b[0;34m\u001b[0m\u001b[0m\n\u001b[1;32m    610\u001b[0m \u001b[0;34m\u001b[0m\u001b[0m\n",
      "\u001b[0;32m/Users/rezapermadi/anaconda/lib/python2.7/site-packages/sklearn/externals/joblib/parallel.pyc\u001b[0m in \u001b[0;36m_dispatch\u001b[0;34m(self, batch)\u001b[0m\n\u001b[1;32m    569\u001b[0m         \u001b[0mdispatch_timestamp\u001b[0m \u001b[0;34m=\u001b[0m \u001b[0mtime\u001b[0m\u001b[0;34m.\u001b[0m\u001b[0mtime\u001b[0m\u001b[0;34m(\u001b[0m\u001b[0;34m)\u001b[0m\u001b[0;34m\u001b[0m\u001b[0m\n\u001b[1;32m    570\u001b[0m         \u001b[0mcb\u001b[0m \u001b[0;34m=\u001b[0m \u001b[0mBatchCompletionCallBack\u001b[0m\u001b[0;34m(\u001b[0m\u001b[0mdispatch_timestamp\u001b[0m\u001b[0;34m,\u001b[0m \u001b[0mlen\u001b[0m\u001b[0;34m(\u001b[0m\u001b[0mbatch\u001b[0m\u001b[0;34m)\u001b[0m\u001b[0;34m,\u001b[0m \u001b[0mself\u001b[0m\u001b[0;34m)\u001b[0m\u001b[0;34m\u001b[0m\u001b[0m\n\u001b[0;32m--> 571\u001b[0;31m         \u001b[0mjob\u001b[0m \u001b[0;34m=\u001b[0m \u001b[0mself\u001b[0m\u001b[0;34m.\u001b[0m\u001b[0m_backend\u001b[0m\u001b[0;34m.\u001b[0m\u001b[0mapply_async\u001b[0m\u001b[0;34m(\u001b[0m\u001b[0mbatch\u001b[0m\u001b[0;34m,\u001b[0m \u001b[0mcallback\u001b[0m\u001b[0;34m=\u001b[0m\u001b[0mcb\u001b[0m\u001b[0;34m)\u001b[0m\u001b[0;34m\u001b[0m\u001b[0m\n\u001b[0m\u001b[1;32m    572\u001b[0m         \u001b[0mself\u001b[0m\u001b[0;34m.\u001b[0m\u001b[0m_jobs\u001b[0m\u001b[0;34m.\u001b[0m\u001b[0mappend\u001b[0m\u001b[0;34m(\u001b[0m\u001b[0mjob\u001b[0m\u001b[0;34m)\u001b[0m\u001b[0;34m\u001b[0m\u001b[0m\n\u001b[1;32m    573\u001b[0m \u001b[0;34m\u001b[0m\u001b[0m\n",
      "\u001b[0;32m/Users/rezapermadi/anaconda/lib/python2.7/site-packages/sklearn/externals/joblib/_parallel_backends.pyc\u001b[0m in \u001b[0;36mapply_async\u001b[0;34m(self, func, callback)\u001b[0m\n\u001b[1;32m    107\u001b[0m     \u001b[0;32mdef\u001b[0m \u001b[0mapply_async\u001b[0m\u001b[0;34m(\u001b[0m\u001b[0mself\u001b[0m\u001b[0;34m,\u001b[0m \u001b[0mfunc\u001b[0m\u001b[0;34m,\u001b[0m \u001b[0mcallback\u001b[0m\u001b[0;34m=\u001b[0m\u001b[0mNone\u001b[0m\u001b[0;34m)\u001b[0m\u001b[0;34m:\u001b[0m\u001b[0;34m\u001b[0m\u001b[0m\n\u001b[1;32m    108\u001b[0m         \u001b[0;34m\"\"\"Schedule a func to be run\"\"\"\u001b[0m\u001b[0;34m\u001b[0m\u001b[0m\n\u001b[0;32m--> 109\u001b[0;31m         \u001b[0mresult\u001b[0m \u001b[0;34m=\u001b[0m \u001b[0mImmediateResult\u001b[0m\u001b[0;34m(\u001b[0m\u001b[0mfunc\u001b[0m\u001b[0;34m)\u001b[0m\u001b[0;34m\u001b[0m\u001b[0m\n\u001b[0m\u001b[1;32m    110\u001b[0m         \u001b[0;32mif\u001b[0m \u001b[0mcallback\u001b[0m\u001b[0;34m:\u001b[0m\u001b[0;34m\u001b[0m\u001b[0m\n\u001b[1;32m    111\u001b[0m             \u001b[0mcallback\u001b[0m\u001b[0;34m(\u001b[0m\u001b[0mresult\u001b[0m\u001b[0;34m)\u001b[0m\u001b[0;34m\u001b[0m\u001b[0m\n",
      "\u001b[0;32m/Users/rezapermadi/anaconda/lib/python2.7/site-packages/sklearn/externals/joblib/_parallel_backends.pyc\u001b[0m in \u001b[0;36m__init__\u001b[0;34m(self, batch)\u001b[0m\n\u001b[1;32m    324\u001b[0m         \u001b[0;31m# Don't delay the application, to avoid keeping the input\u001b[0m\u001b[0;34m\u001b[0m\u001b[0;34m\u001b[0m\u001b[0m\n\u001b[1;32m    325\u001b[0m         \u001b[0;31m# arguments in memory\u001b[0m\u001b[0;34m\u001b[0m\u001b[0;34m\u001b[0m\u001b[0m\n\u001b[0;32m--> 326\u001b[0;31m         \u001b[0mself\u001b[0m\u001b[0;34m.\u001b[0m\u001b[0mresults\u001b[0m \u001b[0;34m=\u001b[0m \u001b[0mbatch\u001b[0m\u001b[0;34m(\u001b[0m\u001b[0;34m)\u001b[0m\u001b[0;34m\u001b[0m\u001b[0m\n\u001b[0m\u001b[1;32m    327\u001b[0m \u001b[0;34m\u001b[0m\u001b[0m\n\u001b[1;32m    328\u001b[0m     \u001b[0;32mdef\u001b[0m \u001b[0mget\u001b[0m\u001b[0;34m(\u001b[0m\u001b[0mself\u001b[0m\u001b[0;34m)\u001b[0m\u001b[0;34m:\u001b[0m\u001b[0;34m\u001b[0m\u001b[0m\n",
      "\u001b[0;32m/Users/rezapermadi/anaconda/lib/python2.7/site-packages/sklearn/externals/joblib/parallel.pyc\u001b[0m in \u001b[0;36m__call__\u001b[0;34m(self)\u001b[0m\n\u001b[1;32m    129\u001b[0m \u001b[0;34m\u001b[0m\u001b[0m\n\u001b[1;32m    130\u001b[0m     \u001b[0;32mdef\u001b[0m \u001b[0m__call__\u001b[0m\u001b[0;34m(\u001b[0m\u001b[0mself\u001b[0m\u001b[0;34m)\u001b[0m\u001b[0;34m:\u001b[0m\u001b[0;34m\u001b[0m\u001b[0m\n\u001b[0;32m--> 131\u001b[0;31m         \u001b[0;32mreturn\u001b[0m \u001b[0;34m[\u001b[0m\u001b[0mfunc\u001b[0m\u001b[0;34m(\u001b[0m\u001b[0;34m*\u001b[0m\u001b[0margs\u001b[0m\u001b[0;34m,\u001b[0m \u001b[0;34m**\u001b[0m\u001b[0mkwargs\u001b[0m\u001b[0;34m)\u001b[0m \u001b[0;32mfor\u001b[0m \u001b[0mfunc\u001b[0m\u001b[0;34m,\u001b[0m \u001b[0margs\u001b[0m\u001b[0;34m,\u001b[0m \u001b[0mkwargs\u001b[0m \u001b[0;32min\u001b[0m \u001b[0mself\u001b[0m\u001b[0;34m.\u001b[0m\u001b[0mitems\u001b[0m\u001b[0;34m]\u001b[0m\u001b[0;34m\u001b[0m\u001b[0m\n\u001b[0m\u001b[1;32m    132\u001b[0m \u001b[0;34m\u001b[0m\u001b[0m\n\u001b[1;32m    133\u001b[0m     \u001b[0;32mdef\u001b[0m \u001b[0m__len__\u001b[0m\u001b[0;34m(\u001b[0m\u001b[0mself\u001b[0m\u001b[0;34m)\u001b[0m\u001b[0;34m:\u001b[0m\u001b[0;34m\u001b[0m\u001b[0m\n",
      "\u001b[0;32m/Users/rezapermadi/anaconda/lib/python2.7/site-packages/sklearn/model_selection/_validation.pyc\u001b[0m in \u001b[0;36m_fit_and_score\u001b[0;34m(estimator, X, y, scorer, train, test, verbose, parameters, fit_params, return_train_score, return_parameters, return_n_test_samples, return_times, error_score)\u001b[0m\n\u001b[1;32m    236\u001b[0m             \u001b[0mestimator\u001b[0m\u001b[0;34m.\u001b[0m\u001b[0mfit\u001b[0m\u001b[0;34m(\u001b[0m\u001b[0mX_train\u001b[0m\u001b[0;34m,\u001b[0m \u001b[0;34m**\u001b[0m\u001b[0mfit_params\u001b[0m\u001b[0;34m)\u001b[0m\u001b[0;34m\u001b[0m\u001b[0m\n\u001b[1;32m    237\u001b[0m         \u001b[0;32melse\u001b[0m\u001b[0;34m:\u001b[0m\u001b[0;34m\u001b[0m\u001b[0m\n\u001b[0;32m--> 238\u001b[0;31m             \u001b[0mestimator\u001b[0m\u001b[0;34m.\u001b[0m\u001b[0mfit\u001b[0m\u001b[0;34m(\u001b[0m\u001b[0mX_train\u001b[0m\u001b[0;34m,\u001b[0m \u001b[0my_train\u001b[0m\u001b[0;34m,\u001b[0m \u001b[0;34m**\u001b[0m\u001b[0mfit_params\u001b[0m\u001b[0;34m)\u001b[0m\u001b[0;34m\u001b[0m\u001b[0m\n\u001b[0m\u001b[1;32m    239\u001b[0m \u001b[0;34m\u001b[0m\u001b[0m\n\u001b[1;32m    240\u001b[0m     \u001b[0;32mexcept\u001b[0m \u001b[0mException\u001b[0m \u001b[0;32mas\u001b[0m \u001b[0me\u001b[0m\u001b[0;34m:\u001b[0m\u001b[0;34m\u001b[0m\u001b[0m\n",
      "\u001b[0;32m/Users/rezapermadi/anaconda/lib/python2.7/site-packages/sklearn/ensemble/forest.pyc\u001b[0m in \u001b[0;36mfit\u001b[0;34m(self, X, y, sample_weight)\u001b[0m\n\u001b[1;32m    324\u001b[0m                     \u001b[0mt\u001b[0m\u001b[0;34m,\u001b[0m \u001b[0mself\u001b[0m\u001b[0;34m,\u001b[0m \u001b[0mX\u001b[0m\u001b[0;34m,\u001b[0m \u001b[0my\u001b[0m\u001b[0;34m,\u001b[0m \u001b[0msample_weight\u001b[0m\u001b[0;34m,\u001b[0m \u001b[0mi\u001b[0m\u001b[0;34m,\u001b[0m \u001b[0mlen\u001b[0m\u001b[0;34m(\u001b[0m\u001b[0mtrees\u001b[0m\u001b[0;34m)\u001b[0m\u001b[0;34m,\u001b[0m\u001b[0;34m\u001b[0m\u001b[0m\n\u001b[1;32m    325\u001b[0m                     verbose=self.verbose, class_weight=self.class_weight)\n\u001b[0;32m--> 326\u001b[0;31m                 for i, t in enumerate(trees))\n\u001b[0m\u001b[1;32m    327\u001b[0m \u001b[0;34m\u001b[0m\u001b[0m\n\u001b[1;32m    328\u001b[0m             \u001b[0;31m# Collect newly grown trees\u001b[0m\u001b[0;34m\u001b[0m\u001b[0;34m\u001b[0m\u001b[0m\n",
      "\u001b[0;32m/Users/rezapermadi/anaconda/lib/python2.7/site-packages/sklearn/externals/joblib/parallel.pyc\u001b[0m in \u001b[0;36m__call__\u001b[0;34m(self, iterable)\u001b[0m\n\u001b[1;32m    766\u001b[0m                 \u001b[0;31m# consumption.\u001b[0m\u001b[0;34m\u001b[0m\u001b[0;34m\u001b[0m\u001b[0m\n\u001b[1;32m    767\u001b[0m                 \u001b[0mself\u001b[0m\u001b[0;34m.\u001b[0m\u001b[0m_iterating\u001b[0m \u001b[0;34m=\u001b[0m \u001b[0mFalse\u001b[0m\u001b[0;34m\u001b[0m\u001b[0m\n\u001b[0;32m--> 768\u001b[0;31m             \u001b[0mself\u001b[0m\u001b[0;34m.\u001b[0m\u001b[0mretrieve\u001b[0m\u001b[0;34m(\u001b[0m\u001b[0;34m)\u001b[0m\u001b[0;34m\u001b[0m\u001b[0m\n\u001b[0m\u001b[1;32m    769\u001b[0m             \u001b[0;31m# Make sure that we get a last message telling us we are done\u001b[0m\u001b[0;34m\u001b[0m\u001b[0;34m\u001b[0m\u001b[0m\n\u001b[1;32m    770\u001b[0m             \u001b[0melapsed_time\u001b[0m \u001b[0;34m=\u001b[0m \u001b[0mtime\u001b[0m\u001b[0;34m.\u001b[0m\u001b[0mtime\u001b[0m\u001b[0;34m(\u001b[0m\u001b[0;34m)\u001b[0m \u001b[0;34m-\u001b[0m \u001b[0mself\u001b[0m\u001b[0;34m.\u001b[0m\u001b[0m_start_time\u001b[0m\u001b[0;34m\u001b[0m\u001b[0m\n",
      "\u001b[0;32m/Users/rezapermadi/anaconda/lib/python2.7/site-packages/sklearn/externals/joblib/parallel.pyc\u001b[0m in \u001b[0;36mretrieve\u001b[0;34m(self)\u001b[0m\n\u001b[1;32m    717\u001b[0m                     \u001b[0mensure_ready\u001b[0m \u001b[0;34m=\u001b[0m \u001b[0mself\u001b[0m\u001b[0;34m.\u001b[0m\u001b[0m_managed_backend\u001b[0m\u001b[0;34m\u001b[0m\u001b[0m\n\u001b[1;32m    718\u001b[0m                     \u001b[0mbackend\u001b[0m\u001b[0;34m.\u001b[0m\u001b[0mabort_everything\u001b[0m\u001b[0;34m(\u001b[0m\u001b[0mensure_ready\u001b[0m\u001b[0;34m=\u001b[0m\u001b[0mensure_ready\u001b[0m\u001b[0;34m)\u001b[0m\u001b[0;34m\u001b[0m\u001b[0m\n\u001b[0;32m--> 719\u001b[0;31m                 \u001b[0;32mraise\u001b[0m \u001b[0mexception\u001b[0m\u001b[0;34m\u001b[0m\u001b[0m\n\u001b[0m\u001b[1;32m    720\u001b[0m \u001b[0;34m\u001b[0m\u001b[0m\n\u001b[1;32m    721\u001b[0m     \u001b[0;32mdef\u001b[0m \u001b[0m__call__\u001b[0m\u001b[0;34m(\u001b[0m\u001b[0mself\u001b[0m\u001b[0;34m,\u001b[0m \u001b[0miterable\u001b[0m\u001b[0;34m)\u001b[0m\u001b[0;34m:\u001b[0m\u001b[0;34m\u001b[0m\u001b[0m\n",
      "\u001b[0;31mKeyboardInterrupt\u001b[0m: "
     ]
    }
   ],
   "source": [
    "from sklearn.ensemble import AdaBoostClassifier, RandomForestClassifier\n",
    "\n",
    "#clf = AdaBoostClassifier()\n",
    "rfc = RandomForestClassifier(n_jobs=-1,max_features= 'sqrt' ,n_estimators=50, oob_score = True) \n",
    "param_grid = { \n",
    "    'n_estimators': [200, 700],\n",
    "    'max_features': ['auto', 'sqrt', 'log2']\n",
    "}\n",
    "\n",
    "CV_rfc = GridSearchCV(estimator=rfc, param_grid=param_grid, cv=10, verbose=2, scoring='neg_log_loss')\n",
    "CV_rfc.fit(train_data, train_label)\n",
    "print CV_rfc.best_params_"
   ]
  },
  {
   "cell_type": "code",
   "execution_count": 132,
   "metadata": {
    "collapsed": false
   },
   "outputs": [
    {
     "name": "stdout",
     "output_type": "stream",
     "text": [
      "0.9999811198\n"
     ]
    }
   ],
   "source": [
    "from sklearn.decomposition import PCA\n",
    "\n",
    "train_data = train.drop('target', 1).values\n",
    "train_label = train['target'].values\n",
    "\n",
    "test_data = test.values\n",
    "\n",
    "pca = PCA(n_components=14)\n",
    "pca_train = pca.fit(train_data).transform(train_data)\n",
    "pca_test = pca.transform(test_data)\n",
    "print sum(pca.explained_variance_ratio_)"
   ]
  },
  {
   "cell_type": "code",
   "execution_count": 133,
   "metadata": {
    "collapsed": false
   },
   "outputs": [
    {
     "name": "stdout",
     "output_type": "stream",
     "text": [
      "Best parameters set found on development set: {'C': 10.0}\n",
      "Best negative log_loss score:  -0.692180401013\n"
     ]
    }
   ],
   "source": [
    "tuned_parameters = [{'C': np.logspace(-5,5,11)}]\n",
    "\n",
    "clf = GridSearchCV(LogisticRegression(), tuned_parameters, cv=10, scoring='neg_log_loss')\n",
    "clf.fit(pca_train, train_label)\n",
    "print \"Best parameters set found on development set:\", clf.best_params_\n",
    "print \"Best negative log_loss score: \", clf.best_score_"
   ]
  },
  {
   "cell_type": "code",
   "execution_count": 179,
   "metadata": {
    "collapsed": false
   },
   "outputs": [
    {
     "name": "stdout",
     "output_type": "stream",
     "text": [
      "-0.693307023136\n"
     ]
    }
   ],
   "source": [
    "from sklearn.ensemble import BaggingClassifier, GradientBoostingClassifier\n",
    "\n",
    "#clf = GradientBoostingClassifier(max_depth=4)\n",
    "clf = AdaBoostClassifier()\n",
    "print np.mean(cross_val_score(clf, train_data, train_label, cv=10, scoring='neg_log_loss'))"
   ]
  },
  {
   "cell_type": "code",
   "execution_count": 194,
   "metadata": {
    "collapsed": false
   },
   "outputs": [
    {
     "name": "stdout",
     "output_type": "stream",
     "text": [
      "0.693241338569\n",
      "0.693326758797\n",
      "0.693763187016\n",
      "0.693128483683\n",
      "0.692560729094\n",
      "0.692520868278\n",
      "0.693669455007\n",
      "0.693369847085\n",
      "0.69361962558\n",
      "0.692857616677\n",
      "mean loss: 0.693205790979 std loss: 0.000418589381604\n"
     ]
    }
   ],
   "source": [
    "# let's try rbf svm with random undersampling\n",
    "# do cross validation\n",
    "\n",
    "from sklearn.model_selection import KFold, StratifiedKFold\n",
    "from imblearn.under_sampling import RandomUnderSampler\n",
    "from sklearn.metrics import log_loss\n",
    "from sklearn.gaussian_process import GaussianProcessClassifier\n",
    "from sklearn.gaussian_process.kernels import RBF\n",
    "from sklearn.utils import resample\n",
    "from sklearn.svm import SVC\n",
    "from sklearn.tree import DecisionTreeClassifier\n",
    "\n",
    "skf = StratifiedKFold(n_splits=10)\n",
    "all_loss = []\n",
    "\n",
    "for train_idx, test_idx in skf.split(train_data, train_label):\n",
    "    cv_data_train = train_data[train_idx]\n",
    "    cv_data_test = train_data[test_idx]\n",
    "    cv_label_train = train_label[train_idx]\n",
    "    cv_label_test = train_label[test_idx]\n",
    "\n",
    "    # first classifier, gradient boosting\n",
    "    clf1 = GradientBoostingClassifier()\n",
    "    clf1.fit(cv_data_train, cv_label_train)\n",
    "    clf1_predict = clf1.predict_proba(cv_data_train)\n",
    "    \n",
    "    # second classifier, gradient boosting\n",
    "    clf2 = LogisticRegression(C=1000)\n",
    "    clf2.fit(cv_data_train, cv_label_train)\n",
    "    clf2_predict = clf2.predict_proba(cv_data_train)\n",
    "\n",
    "    # svm\n",
    "    X_res, y_res = resample(cv_data_train, cv_label_train, n_samples=1000)\n",
    "    clf3 = SVC(kernel='poly', probability=True, C=1000, degree=1)\n",
    "    clf3.fit(X_res, y_res)\n",
    "    clf3_predict = clf3.predict_proba(cv_data_train)\n",
    "    \n",
    "    # svm\n",
    "    X_res, y_res = resample(cv_data_train, cv_label_train, n_samples=1000)\n",
    "    clf4 = SVC(kernel='rbf', probability=True, C=100, gamma=0.01)\n",
    "    clf4.fit(X_res, y_res)\n",
    "    clf4_predict = clf4.predict_proba(cv_data_train)\n",
    "\n",
    "    # use adaboost as meta classifier for the probabilities from 3 classifier\n",
    "    clf5 = AdaBoostClassifier()\n",
    "    clf5.fit(np.concatenate((clf1_predict, clf2_predict, clf3_predict, clf4_predict), \n",
    "                            axis=1), cv_label_train)\n",
    "    \n",
    "    # cek cv data test\n",
    "    clf1_test = clf1.predict_proba(cv_data_test)\n",
    "    clf2_test = clf2.predict_proba(cv_data_test)\n",
    "    clf3_test = clf3.predict_proba(cv_data_test)\n",
    "    clf4_test = clf4.predict_proba(cv_data_test)\n",
    "    \n",
    "    cv_data_test = np.concatenate((clf1_test, clf2_test, clf3_test, clf4_test), \n",
    "                                  axis=1)\n",
    "    score = log_loss(cv_label_test, clf5.predict_proba(cv_data_test))\n",
    "    all_loss.append(score)\n",
    "    print score\n",
    "    \n",
    "print \"mean loss:\", np.mean(all_loss), \"std loss:\", np.std(all_loss)"
   ]
  },
  {
   "cell_type": "code",
   "execution_count": 191,
   "metadata": {
    "collapsed": false
   },
   "outputs": [
    {
     "data": {
      "text/plain": [
       "19512"
      ]
     },
     "execution_count": 191,
     "metadata": {},
     "output_type": "execute_result"
    }
   ],
   "source": [
    "clf1_predict.size"
   ]
  },
  {
   "cell_type": "code",
   "execution_count": 166,
   "metadata": {
    "collapsed": false
   },
   "outputs": [
    {
     "data": {
      "text/plain": [
       "array([[ 0.46659431,  0.53340569],\n",
       "       [ 0.52366143,  0.47633857],\n",
       "       [ 0.52415648,  0.47584352],\n",
       "       ..., \n",
       "       [ 0.49460469,  0.50539531],\n",
       "       [ 0.50224595,  0.49775405],\n",
       "       [ 0.45942692,  0.54057308]])"
      ]
     },
     "execution_count": 166,
     "metadata": {},
     "output_type": "execute_result"
    }
   ],
   "source": [
    "clf2_predict"
   ]
  },
  {
   "cell_type": "code",
   "execution_count": 167,
   "metadata": {
    "collapsed": false
   },
   "outputs": [
    {
     "data": {
      "text/plain": [
       "array([[ 0.52066502,  0.47933498],\n",
       "       [ 0.5196178 ,  0.4803822 ],\n",
       "       [ 0.52361597,  0.47638403],\n",
       "       ..., \n",
       "       [ 0.52577697,  0.47422303],\n",
       "       [ 0.51055721,  0.48944279],\n",
       "       [ 0.5275509 ,  0.4724491 ]])"
      ]
     },
     "execution_count": 167,
     "metadata": {},
     "output_type": "execute_result"
    }
   ],
   "source": [
    "clf3_predict"
   ]
  },
  {
   "cell_type": "code",
   "execution_count": 152,
   "metadata": {
    "collapsed": false
   },
   "outputs": [
    {
     "data": {
      "text/plain": [
       "21"
      ]
     },
     "execution_count": 152,
     "metadata": {},
     "output_type": "execute_result"
    }
   ],
   "source": [
    "np.size(cv_data_train, 1)"
   ]
  },
  {
   "cell_type": "code",
   "execution_count": 145,
   "metadata": {
    "collapsed": false
   },
   "outputs": [
    {
     "data": {
      "text/plain": [
       "array([[ 0.2769421 ,  0.40209276,  0.59490571, ...,  0.45313083,\n",
       "         0.4685651 ,  0.40354326],\n",
       "       [ 0.41899319,  0.46042667,  0.45115205, ...,  0.43402017,\n",
       "         0.37298324,  0.32927497],\n",
       "       [ 0.39181233,  0.35096668,  0.49516564, ...,  0.39208938,\n",
       "         0.45459807,  0.43017723],\n",
       "       ..., \n",
       "       [ 0.45124121,  0.37271462,  0.49188131, ...,  0.49994464,\n",
       "         0.37539758,  0.40792209],\n",
       "       [ 0.40043247,  0.42860855,  0.51750725, ...,  0.5213738 ,\n",
       "         0.35563741,  0.34590617],\n",
       "       [ 0.35190257,  0.4138763 ,  0.48398666, ...,  0.36716077,\n",
       "         0.43200966,  0.35552528]])"
      ]
     },
     "execution_count": 145,
     "metadata": {},
     "output_type": "execute_result"
    }
   ],
   "source": [
    "cv_data_train"
   ]
  },
  {
   "cell_type": "code",
   "execution_count": null,
   "metadata": {
    "collapsed": true
   },
   "outputs": [],
   "source": []
  }
 ],
 "metadata": {
  "kernelspec": {
   "display_name": "Python 2",
   "language": "python",
   "name": "python2"
  },
  "language_info": {
   "codemirror_mode": {
    "name": "ipython",
    "version": 2
   },
   "file_extension": ".py",
   "mimetype": "text/x-python",
   "name": "python",
   "nbconvert_exporter": "python",
   "pygments_lexer": "ipython2",
   "version": "2.7.13"
  }
 },
 "nbformat": 4,
 "nbformat_minor": 2
}
